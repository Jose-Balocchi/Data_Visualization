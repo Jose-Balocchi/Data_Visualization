{
  "nbformat": 4,
  "nbformat_minor": 0,
  "metadata": {
    "colab": {
      "provenance": [],
      "authorship_tag": "ABX9TyMbEXqGcQ1D5LfEjVxmVrrK",
      "include_colab_link": true
    },
    "kernelspec": {
      "name": "python3",
      "display_name": "Python 3"
    },
    "language_info": {
      "name": "python"
    }
  },
  "cells": [
    {
      "cell_type": "markdown",
      "metadata": {
        "id": "view-in-github",
        "colab_type": "text"
      },
      "source": [
        "<a href=\"https://colab.research.google.com/github/Jose-Balocchi/Data_Visualization/blob/main/17_Visualiz_de_datos.ipynb\" target=\"_parent\"><img src=\"https://colab.research.google.com/assets/colab-badge.svg\" alt=\"Open In Colab\"/></a>"
      ]
    },
    {
      "cell_type": "code",
      "execution_count": 209,
      "metadata": {
        "id": "ljPPs2xLA2dT"
      },
      "outputs": [],
      "source": [
        "# Vamos con las bases y bibliotecas\n",
        "import matplotlib.pyplot as plt\n",
        "import pandas as pd\n",
        "import numpy as np\n",
        "import seaborn as sns"
      ]
    },
    {
      "cell_type": "code",
      "source": [
        "df = pd.read_excel('/content/15_Cocaine and Heroin Prices.xlsx')"
      ],
      "metadata": {
        "id": "Yo2SXXF1BBLd"
      },
      "execution_count": 150,
      "outputs": []
    },
    {
      "cell_type": "code",
      "source": [
        "df.head()"
      ],
      "metadata": {
        "colab": {
          "base_uri": "https://localhost:8080/",
          "height": 206
        },
        "id": "uwwO4X7sBSg1",
        "outputId": "b08ad3e6-1eeb-42c3-ce41-8ff5b24397a9"
      },
      "execution_count": 151,
      "outputs": [
        {
          "output_type": "execute_result",
          "data": {
            "text/plain": [
              "      Sub Region                   Country     Drug  Year  Wholesale Price  \\\n",
              "0  North America  United States of America  Cocaine  1990          48300.0   \n",
              "1  North America  United States of America  Cocaine  1991          48100.0   \n",
              "2  North America  United States of America  Cocaine  1992          44730.0   \n",
              "3  North America  United States of America  Cocaine  1993          42180.0   \n",
              "4  North America  United States of America  Cocaine  1994          38640.0   \n",
              "\n",
              "   Retail Price  \n",
              "0         79.95  \n",
              "1         76.58  \n",
              "2         72.79  \n",
              "3         74.11  \n",
              "4         68.01  "
            ],
            "text/html": [
              "\n",
              "  <div id=\"df-e8143918-ad39-4b0c-a23b-87f096b3aefc\">\n",
              "    <div class=\"colab-df-container\">\n",
              "      <div>\n",
              "<style scoped>\n",
              "    .dataframe tbody tr th:only-of-type {\n",
              "        vertical-align: middle;\n",
              "    }\n",
              "\n",
              "    .dataframe tbody tr th {\n",
              "        vertical-align: top;\n",
              "    }\n",
              "\n",
              "    .dataframe thead th {\n",
              "        text-align: right;\n",
              "    }\n",
              "</style>\n",
              "<table border=\"1\" class=\"dataframe\">\n",
              "  <thead>\n",
              "    <tr style=\"text-align: right;\">\n",
              "      <th></th>\n",
              "      <th>Sub Region</th>\n",
              "      <th>Country</th>\n",
              "      <th>Drug</th>\n",
              "      <th>Year</th>\n",
              "      <th>Wholesale Price</th>\n",
              "      <th>Retail Price</th>\n",
              "    </tr>\n",
              "  </thead>\n",
              "  <tbody>\n",
              "    <tr>\n",
              "      <th>0</th>\n",
              "      <td>North America</td>\n",
              "      <td>United States of America</td>\n",
              "      <td>Cocaine</td>\n",
              "      <td>1990</td>\n",
              "      <td>48300.0</td>\n",
              "      <td>79.95</td>\n",
              "    </tr>\n",
              "    <tr>\n",
              "      <th>1</th>\n",
              "      <td>North America</td>\n",
              "      <td>United States of America</td>\n",
              "      <td>Cocaine</td>\n",
              "      <td>1991</td>\n",
              "      <td>48100.0</td>\n",
              "      <td>76.58</td>\n",
              "    </tr>\n",
              "    <tr>\n",
              "      <th>2</th>\n",
              "      <td>North America</td>\n",
              "      <td>United States of America</td>\n",
              "      <td>Cocaine</td>\n",
              "      <td>1992</td>\n",
              "      <td>44730.0</td>\n",
              "      <td>72.79</td>\n",
              "    </tr>\n",
              "    <tr>\n",
              "      <th>3</th>\n",
              "      <td>North America</td>\n",
              "      <td>United States of America</td>\n",
              "      <td>Cocaine</td>\n",
              "      <td>1993</td>\n",
              "      <td>42180.0</td>\n",
              "      <td>74.11</td>\n",
              "    </tr>\n",
              "    <tr>\n",
              "      <th>4</th>\n",
              "      <td>North America</td>\n",
              "      <td>United States of America</td>\n",
              "      <td>Cocaine</td>\n",
              "      <td>1994</td>\n",
              "      <td>38640.0</td>\n",
              "      <td>68.01</td>\n",
              "    </tr>\n",
              "  </tbody>\n",
              "</table>\n",
              "</div>\n",
              "      <button class=\"colab-df-convert\" onclick=\"convertToInteractive('df-e8143918-ad39-4b0c-a23b-87f096b3aefc')\"\n",
              "              title=\"Convert this dataframe to an interactive table.\"\n",
              "              style=\"display:none;\">\n",
              "        \n",
              "  <svg xmlns=\"http://www.w3.org/2000/svg\" height=\"24px\"viewBox=\"0 0 24 24\"\n",
              "       width=\"24px\">\n",
              "    <path d=\"M0 0h24v24H0V0z\" fill=\"none\"/>\n",
              "    <path d=\"M18.56 5.44l.94 2.06.94-2.06 2.06-.94-2.06-.94-.94-2.06-.94 2.06-2.06.94zm-11 1L8.5 8.5l.94-2.06 2.06-.94-2.06-.94L8.5 2.5l-.94 2.06-2.06.94zm10 10l.94 2.06.94-2.06 2.06-.94-2.06-.94-.94-2.06-.94 2.06-2.06.94z\"/><path d=\"M17.41 7.96l-1.37-1.37c-.4-.4-.92-.59-1.43-.59-.52 0-1.04.2-1.43.59L10.3 9.45l-7.72 7.72c-.78.78-.78 2.05 0 2.83L4 21.41c.39.39.9.59 1.41.59.51 0 1.02-.2 1.41-.59l7.78-7.78 2.81-2.81c.8-.78.8-2.07 0-2.86zM5.41 20L4 18.59l7.72-7.72 1.47 1.35L5.41 20z\"/>\n",
              "  </svg>\n",
              "      </button>\n",
              "      \n",
              "  <style>\n",
              "    .colab-df-container {\n",
              "      display:flex;\n",
              "      flex-wrap:wrap;\n",
              "      gap: 12px;\n",
              "    }\n",
              "\n",
              "    .colab-df-convert {\n",
              "      background-color: #E8F0FE;\n",
              "      border: none;\n",
              "      border-radius: 50%;\n",
              "      cursor: pointer;\n",
              "      display: none;\n",
              "      fill: #1967D2;\n",
              "      height: 32px;\n",
              "      padding: 0 0 0 0;\n",
              "      width: 32px;\n",
              "    }\n",
              "\n",
              "    .colab-df-convert:hover {\n",
              "      background-color: #E2EBFA;\n",
              "      box-shadow: 0px 1px 2px rgba(60, 64, 67, 0.3), 0px 1px 3px 1px rgba(60, 64, 67, 0.15);\n",
              "      fill: #174EA6;\n",
              "    }\n",
              "\n",
              "    [theme=dark] .colab-df-convert {\n",
              "      background-color: #3B4455;\n",
              "      fill: #D2E3FC;\n",
              "    }\n",
              "\n",
              "    [theme=dark] .colab-df-convert:hover {\n",
              "      background-color: #434B5C;\n",
              "      box-shadow: 0px 1px 3px 1px rgba(0, 0, 0, 0.15);\n",
              "      filter: drop-shadow(0px 1px 2px rgba(0, 0, 0, 0.3));\n",
              "      fill: #FFFFFF;\n",
              "    }\n",
              "  </style>\n",
              "\n",
              "      <script>\n",
              "        const buttonEl =\n",
              "          document.querySelector('#df-e8143918-ad39-4b0c-a23b-87f096b3aefc button.colab-df-convert');\n",
              "        buttonEl.style.display =\n",
              "          google.colab.kernel.accessAllowed ? 'block' : 'none';\n",
              "\n",
              "        async function convertToInteractive(key) {\n",
              "          const element = document.querySelector('#df-e8143918-ad39-4b0c-a23b-87f096b3aefc');\n",
              "          const dataTable =\n",
              "            await google.colab.kernel.invokeFunction('convertToInteractive',\n",
              "                                                     [key], {});\n",
              "          if (!dataTable) return;\n",
              "\n",
              "          const docLinkHtml = 'Like what you see? Visit the ' +\n",
              "            '<a target=\"_blank\" href=https://colab.research.google.com/notebooks/data_table.ipynb>data table notebook</a>'\n",
              "            + ' to learn more about interactive tables.';\n",
              "          element.innerHTML = '';\n",
              "          dataTable['output_type'] = 'display_data';\n",
              "          await google.colab.output.renderOutput(dataTable, element);\n",
              "          const docLink = document.createElement('div');\n",
              "          docLink.innerHTML = docLinkHtml;\n",
              "          element.appendChild(docLink);\n",
              "        }\n",
              "      </script>\n",
              "    </div>\n",
              "  </div>\n",
              "  "
            ]
          },
          "metadata": {},
          "execution_count": 151
        }
      ]
    },
    {
      "cell_type": "code",
      "source": [
        "df.info()"
      ],
      "metadata": {
        "colab": {
          "base_uri": "https://localhost:8080/"
        },
        "id": "wIjGDOwbBTru",
        "outputId": "c2b42c74-4f08-44b6-aee1-e551c21dddf6"
      },
      "execution_count": 152,
      "outputs": [
        {
          "output_type": "stream",
          "name": "stdout",
          "text": [
            "<class 'pandas.core.frame.DataFrame'>\n",
            "RangeIndex: 1116 entries, 0 to 1115\n",
            "Data columns (total 6 columns):\n",
            " #   Column           Non-Null Count  Dtype  \n",
            "---  ------           --------------  -----  \n",
            " 0   Sub Region       1116 non-null   object \n",
            " 1   Country          1116 non-null   object \n",
            " 2   Drug             1116 non-null   object \n",
            " 3   Year             1116 non-null   int64  \n",
            " 4   Wholesale Price  1116 non-null   float64\n",
            " 5   Retail Price     1116 non-null   float64\n",
            "dtypes: float64(2), int64(1), object(3)\n",
            "memory usage: 52.4+ KB\n"
          ]
        }
      ]
    },
    {
      "cell_type": "code",
      "source": [
        "df['Sub Region'].value_counts()"
      ],
      "metadata": {
        "colab": {
          "base_uri": "https://localhost:8080/"
        },
        "id": "0OrPBtyBKBxF",
        "outputId": "45d1bda2-a336-459d-8e69-dd8ad1674a73"
      },
      "execution_count": 225,
      "outputs": [
        {
          "output_type": "execute_result",
          "data": {
            "text/plain": [
              "Western and Central Europe    1054\n",
              "North America                   62\n",
              "Name: Sub Region, dtype: int64"
            ]
          },
          "metadata": {},
          "execution_count": 225
        }
      ]
    },
    {
      "cell_type": "code",
      "source": [
        "df['Drug'].value_counts()"
      ],
      "metadata": {
        "colab": {
          "base_uri": "https://localhost:8080/"
        },
        "id": "b0gcpggONwBO",
        "outputId": "9168676c-c780-4ca2-f468-027ae638a072"
      },
      "execution_count": 153,
      "outputs": [
        {
          "output_type": "execute_result",
          "data": {
            "text/plain": [
              "Cocaine    558\n",
              "Heroin     558\n",
              "Name: Drug, dtype: int64"
            ]
          },
          "metadata": {},
          "execution_count": 153
        }
      ]
    },
    {
      "cell_type": "code",
      "source": [
        "df['Country'].value_counts()"
      ],
      "metadata": {
        "colab": {
          "base_uri": "https://localhost:8080/"
        },
        "id": "vIBPBOmvBazy",
        "outputId": "3102713d-b6e4-4142-c3d7-b2c0aa1c23d6"
      },
      "execution_count": 154,
      "outputs": [
        {
          "output_type": "execute_result",
          "data": {
            "text/plain": [
              "United States of America    62\n",
              "Austria                     62\n",
              "Switzerland                 62\n",
              "Sweden                      62\n",
              "Spain                       62\n",
              "Portugal                    62\n",
              "Norway                      62\n",
              "Netherlands                 62\n",
              "Luxembourg                  62\n",
              "Italy                       62\n",
              "Ireland                     62\n",
              "Greece                      62\n",
              "Germany                     62\n",
              "France                      62\n",
              "Finland                     62\n",
              "Denmark                     62\n",
              "Belgium                     62\n",
              "United Kingdom              62\n",
              "Name: Country, dtype: int64"
            ]
          },
          "metadata": {},
          "execution_count": 154
        }
      ]
    },
    {
      "cell_type": "code",
      "source": [
        "df = df.rename(columns = {'Retail Price': 'Retail_Price'})"
      ],
      "metadata": {
        "id": "3_54KMHWE38y"
      },
      "execution_count": 155,
      "outputs": []
    },
    {
      "cell_type": "code",
      "source": [
        "df.info()"
      ],
      "metadata": {
        "colab": {
          "base_uri": "https://localhost:8080/"
        },
        "id": "4HdLdOEOFKzk",
        "outputId": "4d2d3bd0-36a1-4bba-d43b-b1c340dcfb40"
      },
      "execution_count": 156,
      "outputs": [
        {
          "output_type": "stream",
          "name": "stdout",
          "text": [
            "<class 'pandas.core.frame.DataFrame'>\n",
            "RangeIndex: 1116 entries, 0 to 1115\n",
            "Data columns (total 6 columns):\n",
            " #   Column           Non-Null Count  Dtype  \n",
            "---  ------           --------------  -----  \n",
            " 0   Sub Region       1116 non-null   object \n",
            " 1   Country          1116 non-null   object \n",
            " 2   Drug             1116 non-null   object \n",
            " 3   Year             1116 non-null   int64  \n",
            " 4   Wholesale Price  1116 non-null   float64\n",
            " 5   Retail_Price     1116 non-null   float64\n",
            "dtypes: float64(2), int64(1), object(3)\n",
            "memory usage: 52.4+ KB\n"
          ]
        }
      ]
    },
    {
      "cell_type": "code",
      "source": [
        "# Vamos con un groupby para ver como se relacionan las columnas\n",
        "# Precio Retail\n",
        "\n",
        "paises_precios_alto = df.groupby(['Country', 'Drug'])['Retail_Price'].mean().sort_values(ascending = False).head(10)\n",
        "paises_precios_alto = paises_precios_alto.reset_index()"
      ],
      "metadata": {
        "id": "Tv7f9zrzGN65"
      },
      "execution_count": 213,
      "outputs": []
    },
    {
      "cell_type": "code",
      "source": [
        "sns.barplot(x =paises_precios_alto['Country'], y = paises_precios_alto['Retail_Price'], hue= paises_precios_alto['Drug'])\n",
        "plt.title('Precio Drogas por Pais')\n",
        "plt.xticks(rotation = 90)\n",
        "plt.legend(loc = 'upper center')\n",
        "plt.xlabel('Pais')\n",
        "plt.ylabel('Precio Retail USD')\n",
        "plt.show()"
      ],
      "metadata": {
        "colab": {
          "base_uri": "https://localhost:8080/",
          "height": 476
        },
        "id": "dK3Fde0_GrVY",
        "outputId": "834396d7-20a8-4b0f-9747-7e02d64fd2b3"
      },
      "execution_count": 221,
      "outputs": [
        {
          "output_type": "display_data",
          "data": {
            "text/plain": [
              "<Figure size 576x396 with 1 Axes>"
            ],
            "image/png": "[encoded data removed]"
          },
          "metadata": {}
        }
      ]
    },
    {
      "cell_type": "code",
      "source": [
        "# Vamos con un groupby para ver como se relacionan las columnas\n",
        "# Precio Retail y como se mueve en el tiempo\n",
        "\n",
        "paises_precios_alto1 = df.groupby(['Drug', 'Year'])['Retail_Price'].mean()\n",
        "paises_precios_alto1 = paises_precios_alto1.reset_index()"
      ],
      "metadata": {
        "id": "AaauG7mHEZUD"
      },
      "execution_count": 230,
      "outputs": []
    },
    {
      "cell_type": "code",
      "source": [
        "sns.barplot(x =paises_precios_alto1['Year'], y = paises_precios_alto1['Retail_Price'], hue= paises_precios_alto1['Drug'])\n",
        "plt.title('Precio Drogas por Pais')\n",
        "plt.xticks(rotation = 90)\n",
        "plt.legend(loc = 'upper center')\n",
        "plt.xlabel('Pais')\n",
        "plt.ylabel('Precio Retail USD')\n",
        "plt.show()"
      ],
      "metadata": {
        "colab": {
          "base_uri": "https://localhost:8080/",
          "height": 388
        },
        "id": "grDEZmcKJePN",
        "outputId": "45f5113b-7a6e-4a99-efeb-4068fbbbee55"
      },
      "execution_count": 231,
      "outputs": [
        {
          "output_type": "display_data",
          "data": {
            "text/plain": [
              "<Figure size 576x396 with 1 Axes>"
            ],
            "image/png": "[encoded data removed]"
          },
          "metadata": {}
        }
      ]
    },
    {
      "cell_type": "code",
      "source": [],
      "metadata": {
        "id": "5HMWx8YVJ0c2"
      },
      "execution_count": null,
      "outputs": []
    }
  ]
}